{
 "cells": [
  {
   "cell_type": "code",
   "execution_count": null,
   "id": "fab04a8a-588a-43eb-ab20-0352d87bc5ce",
   "metadata": {},
   "outputs": [],
   "source": [
    "ETUDE HYPERPARAMETRES TVAE TE CTGAN "
   ]
  },
  {
   "cell_type": "code",
   "execution_count": 2,
   "id": "8ac0a587-6769-4b00-bb09-a57b64ee024b",
   "metadata": {},
   "outputs": [
    {
     "name": "stdout",
     "output_type": "stream",
     "text": [
      "(5735, 63)\n"
     ]
    },
    {
     "data": {
      "text/html": [
       "<div>\n",
       "<style scoped>\n",
       "    .dataframe tbody tr th:only-of-type {\n",
       "        vertical-align: middle;\n",
       "    }\n",
       "\n",
       "    .dataframe tbody tr th {\n",
       "        vertical-align: top;\n",
       "    }\n",
       "\n",
       "    .dataframe thead th {\n",
       "        text-align: right;\n",
       "    }\n",
       "</style>\n",
       "<table border=\"1\" class=\"dataframe\">\n",
       "  <thead>\n",
       "    <tr style=\"text-align: right;\">\n",
       "      <th></th>\n",
       "      <th>Unnamed: 0</th>\n",
       "      <th>cat1</th>\n",
       "      <th>cat2</th>\n",
       "      <th>ca</th>\n",
       "      <th>sadmdte</th>\n",
       "      <th>dschdte</th>\n",
       "      <th>dthdte</th>\n",
       "      <th>lstctdte</th>\n",
       "      <th>death</th>\n",
       "      <th>cardiohx</th>\n",
       "      <th>...</th>\n",
       "      <th>meta</th>\n",
       "      <th>hema</th>\n",
       "      <th>seps</th>\n",
       "      <th>trauma</th>\n",
       "      <th>ortho</th>\n",
       "      <th>adld3p</th>\n",
       "      <th>urin1</th>\n",
       "      <th>race</th>\n",
       "      <th>income</th>\n",
       "      <th>ptid</th>\n",
       "    </tr>\n",
       "  </thead>\n",
       "  <tbody>\n",
       "    <tr>\n",
       "      <th>0</th>\n",
       "      <td>1</td>\n",
       "      <td>COPD</td>\n",
       "      <td>NaN</td>\n",
       "      <td>Yes</td>\n",
       "      <td>11142</td>\n",
       "      <td>11151.0</td>\n",
       "      <td>NaN</td>\n",
       "      <td>11382</td>\n",
       "      <td>No</td>\n",
       "      <td>0</td>\n",
       "      <td>...</td>\n",
       "      <td>No</td>\n",
       "      <td>No</td>\n",
       "      <td>No</td>\n",
       "      <td>No</td>\n",
       "      <td>No</td>\n",
       "      <td>0.0</td>\n",
       "      <td>NaN</td>\n",
       "      <td>white</td>\n",
       "      <td>Under $11k</td>\n",
       "      <td>5</td>\n",
       "    </tr>\n",
       "    <tr>\n",
       "      <th>1</th>\n",
       "      <td>2</td>\n",
       "      <td>MOSF w/Sepsis</td>\n",
       "      <td>NaN</td>\n",
       "      <td>No</td>\n",
       "      <td>11799</td>\n",
       "      <td>11844.0</td>\n",
       "      <td>11844.0</td>\n",
       "      <td>11844</td>\n",
       "      <td>Yes</td>\n",
       "      <td>1</td>\n",
       "      <td>...</td>\n",
       "      <td>No</td>\n",
       "      <td>No</td>\n",
       "      <td>Yes</td>\n",
       "      <td>No</td>\n",
       "      <td>No</td>\n",
       "      <td>NaN</td>\n",
       "      <td>1437.0</td>\n",
       "      <td>white</td>\n",
       "      <td>Under $11k</td>\n",
       "      <td>7</td>\n",
       "    </tr>\n",
       "    <tr>\n",
       "      <th>2</th>\n",
       "      <td>3</td>\n",
       "      <td>MOSF w/Malignancy</td>\n",
       "      <td>MOSF w/Sepsis</td>\n",
       "      <td>Yes</td>\n",
       "      <td>12083</td>\n",
       "      <td>12143.0</td>\n",
       "      <td>NaN</td>\n",
       "      <td>12400</td>\n",
       "      <td>No</td>\n",
       "      <td>0</td>\n",
       "      <td>...</td>\n",
       "      <td>No</td>\n",
       "      <td>No</td>\n",
       "      <td>No</td>\n",
       "      <td>No</td>\n",
       "      <td>No</td>\n",
       "      <td>NaN</td>\n",
       "      <td>599.0</td>\n",
       "      <td>white</td>\n",
       "      <td>$25-$50k</td>\n",
       "      <td>9</td>\n",
       "    </tr>\n",
       "    <tr>\n",
       "      <th>3</th>\n",
       "      <td>4</td>\n",
       "      <td>ARF</td>\n",
       "      <td>NaN</td>\n",
       "      <td>No</td>\n",
       "      <td>11146</td>\n",
       "      <td>11183.0</td>\n",
       "      <td>11183.0</td>\n",
       "      <td>11182</td>\n",
       "      <td>Yes</td>\n",
       "      <td>0</td>\n",
       "      <td>...</td>\n",
       "      <td>No</td>\n",
       "      <td>No</td>\n",
       "      <td>No</td>\n",
       "      <td>No</td>\n",
       "      <td>No</td>\n",
       "      <td>NaN</td>\n",
       "      <td>NaN</td>\n",
       "      <td>white</td>\n",
       "      <td>$11-$25k</td>\n",
       "      <td>10</td>\n",
       "    </tr>\n",
       "    <tr>\n",
       "      <th>4</th>\n",
       "      <td>5</td>\n",
       "      <td>MOSF w/Sepsis</td>\n",
       "      <td>NaN</td>\n",
       "      <td>No</td>\n",
       "      <td>12035</td>\n",
       "      <td>12037.0</td>\n",
       "      <td>12037.0</td>\n",
       "      <td>12036</td>\n",
       "      <td>Yes</td>\n",
       "      <td>0</td>\n",
       "      <td>...</td>\n",
       "      <td>No</td>\n",
       "      <td>No</td>\n",
       "      <td>No</td>\n",
       "      <td>No</td>\n",
       "      <td>No</td>\n",
       "      <td>NaN</td>\n",
       "      <td>64.0</td>\n",
       "      <td>white</td>\n",
       "      <td>Under $11k</td>\n",
       "      <td>11</td>\n",
       "    </tr>\n",
       "  </tbody>\n",
       "</table>\n",
       "<p>5 rows × 63 columns</p>\n",
       "</div>"
      ],
      "text/plain": [
       "   Unnamed: 0               cat1           cat2   ca  sadmdte  dschdte  \\\n",
       "0           1               COPD            NaN  Yes    11142  11151.0   \n",
       "1           2      MOSF w/Sepsis            NaN   No    11799  11844.0   \n",
       "2           3  MOSF w/Malignancy  MOSF w/Sepsis  Yes    12083  12143.0   \n",
       "3           4                ARF            NaN   No    11146  11183.0   \n",
       "4           5      MOSF w/Sepsis            NaN   No    12035  12037.0   \n",
       "\n",
       "    dthdte  lstctdte death  cardiohx  ...  meta  hema  seps  trauma  ortho  \\\n",
       "0      NaN     11382    No         0  ...    No    No    No      No     No   \n",
       "1  11844.0     11844   Yes         1  ...    No    No   Yes      No     No   \n",
       "2      NaN     12400    No         0  ...    No    No    No      No     No   \n",
       "3  11183.0     11182   Yes         0  ...    No    No    No      No     No   \n",
       "4  12037.0     12036   Yes         0  ...    No    No    No      No     No   \n",
       "\n",
       "   adld3p   urin1   race      income  ptid  \n",
       "0     0.0     NaN  white  Under $11k     5  \n",
       "1     NaN  1437.0  white  Under $11k     7  \n",
       "2     NaN   599.0  white    $25-$50k     9  \n",
       "3     NaN     NaN  white    $11-$25k    10  \n",
       "4     NaN    64.0  white  Under $11k    11  \n",
       "\n",
       "[5 rows x 63 columns]"
      ]
     },
     "execution_count": 2,
     "metadata": {},
     "output_type": "execute_result"
    }
   ],
   "source": [
    "import pandas as pd\n",
    "import numpy as np\n",
    "import warnings\n",
    "from rdt import HyperTransformer\n",
    "from rdt.transformers import UniformEncoder, FloatFormatter, LabelEncoder\n",
    "from sdv.metadata import SingleTableMetadata\n",
    "from sdv.single_table import TVAESynthesizer\n",
    "import time\n",
    "from sdmetrics.single_column import KSComplement\n",
    "\n",
    "\n",
    "url = \"https://hbiostat.org/data/repo/rhc.csv\"\n",
    "df_rhc = pd.read_csv(url)\n",
    "print(df_rhc.shape)\n",
    "df_rhc.head()"
   ]
  },
  {
   "cell_type": "code",
   "execution_count": 3,
   "id": "5bfedfe1-2345-4ffc-9150-8f80fdec3298",
   "metadata": {
    "scrolled": true
   },
   "outputs": [
    {
     "name": "stdout",
     "output_type": "stream",
     "text": [
      "\n",
      "Dimensions du jeu encodé : (5735, 54)\n"
     ]
    }
   ],
   "source": [
    "\n",
    "warnings.filterwarnings(\"ignore\")\n",
    "\n",
    "url = \"https://hbiostat.org/data/repo/rhc.csv\"\n",
    "df = pd.read_csv(url)\n",
    "\n",
    "df.drop(columns=[\n",
    "    'ptid', 'Unnamed: 0', 'caseid', 'sadmdte', 'dschdte',\n",
    "    'dthdte', 'lstctdte', 't3d30', 'cat2', 'adld3p'\n",
    "], inplace=True, errors='ignore')\n",
    "df = df[df.isnull().mean(axis=1) <= 0.8].reset_index(drop=True)\n",
    "\n",
    "# Log-transform\n",
    "for col in ['urin1', 'crea1', 'bili1', 'wblc1']:\n",
    "    if col in df.columns:\n",
    "        df[col] = np.log1p(df[col])\n",
    "\n",
    "# Configuration HyperTransformer\n",
    "ht = HyperTransformer()\n",
    "cfg = {'sdtypes': {}, 'transformers': {}}\n",
    "\n",
    "for col in df.columns:\n",
    "    unique_vals = sorted(df[col].dropna().unique())\n",
    "\n",
    "    if unique_vals == [0, 1]:\n",
    "        cfg['sdtypes'][col] = 'categorical'\n",
    "        cfg['transformers'][col] = LabelEncoder()\n",
    "    elif pd.api.types.is_numeric_dtype(df[col]):\n",
    "        cfg['sdtypes'][col] = 'numerical'\n",
    "        cfg['transformers'][col] = FloatFormatter()\n",
    "    else:\n",
    "        cfg['sdtypes'][col] = 'categorical'\n",
    "        cfg['transformers'][col] = LabelEncoder()\n",
    "\n",
    "ht.set_config(cfg)\n",
    "df_encoded = ht.fit_transform(df)\n",
    "\n",
    "# metadata \n",
    "metadata = SingleTableMetadata()\n",
    "for col, sdtype in cfg['sdtypes'].items():\n",
    "    metadata.add_column(column_name=col, sdtype=sdtype)\n",
    "\n",
    "# Décodage \n",
    "df_decoded = ht.reverse_transform(df_encoded)\n",
    "\n",
    "# Vérification réversibilité\n",
    "assert df.shape == df_decoded.shape, \"Erreur : dimensions incohérentes après reverse_transform\"\n",
    "\n",
    "print(\"\\nDimensions du jeu encodé :\", df_encoded.shape)\n",
    "\n"
   ]
  },
  {
   "cell_type": "markdown",
   "id": "72532050-6d9b-4152-9173-51cc731e35c6",
   "metadata": {},
   "source": [
    "TVAE"
   ]
  },
  {
   "cell_type": "code",
   "execution_count": 5,
   "id": "3c9817e4-c3fd-4068-a634-16e86590f911",
   "metadata": {},
   "outputs": [
    {
     "name": "stdout",
     "output_type": "stream",
     "text": [
      "\n",
      "===== Entraînement TVAE 1/8 =====\n",
      "Config : {'epochs': 300, 'embedding_dim': 64, 'compress_dims': (64, 32), 'batch_size': 256, 'loss_factor': 1.0}\n"
     ]
    },
    {
     "name": "stderr",
     "output_type": "stream",
     "text": [
      "Loss: 33.700: 100%|██████████| 300/300 [07:17<00:00,  1.46s/it]\n"
     ]
    },
    {
     "name": "stdout",
     "output_type": "stream",
     "text": [
      "→ KS moyen : 0.8134 | Durée : 461.87 sec\n",
      "\n",
      "===== Entraînement TVAE 2/8 =====\n",
      "Config : {'epochs': 300, 'embedding_dim': 64, 'compress_dims': (64, 32), 'batch_size': 256, 'loss_factor': 2.0}\n"
     ]
    },
    {
     "name": "stderr",
     "output_type": "stream",
     "text": [
      "Loss: 54.496: 100%|██████████| 300/300 [07:16<00:00,  1.46s/it]\n"
     ]
    },
    {
     "name": "stdout",
     "output_type": "stream",
     "text": [
      "→ KS moyen : 0.8701 | Durée : 455.42 sec\n",
      "\n",
      "===== Entraînement TVAE 3/8 =====\n",
      "Config : {'epochs': 300, 'embedding_dim': 128, 'compress_dims': (64, 32), 'batch_size': 256, 'loss_factor': 1.0}\n"
     ]
    },
    {
     "name": "stderr",
     "output_type": "stream",
     "text": [
      "Loss: 33.061: 100%|██████████| 300/300 [07:22<00:00,  1.47s/it]\n"
     ]
    },
    {
     "name": "stdout",
     "output_type": "stream",
     "text": [
      "→ KS moyen : 0.8263 | Durée : 467.43 sec\n",
      "\n",
      "===== Entraînement TVAE 4/8 =====\n",
      "Config : {'epochs': 300, 'embedding_dim': 128, 'compress_dims': (64, 32), 'batch_size': 256, 'loss_factor': 2.0}\n"
     ]
    },
    {
     "name": "stderr",
     "output_type": "stream",
     "text": [
      "Loss: 54.827: 100%|██████████| 300/300 [07:21<00:00,  1.47s/it]\n"
     ]
    },
    {
     "name": "stdout",
     "output_type": "stream",
     "text": [
      "→ KS moyen : 0.871 | Durée : 459.73 sec\n",
      "\n",
      "===== Entraînement TVAE 5/8 =====\n",
      "Config : {'epochs': 500, 'embedding_dim': 64, 'compress_dims': (64, 32), 'batch_size': 256, 'loss_factor': 1.0}\n"
     ]
    },
    {
     "name": "stderr",
     "output_type": "stream",
     "text": [
      "Loss: 31.349: 100%|██████████| 500/500 [13:22<00:00,  1.60s/it]\n"
     ]
    },
    {
     "name": "stdout",
     "output_type": "stream",
     "text": [
      "→ KS moyen : 0.8433 | Durée : 821.89 sec\n",
      "\n",
      "===== Entraînement TVAE 6/8 =====\n",
      "Config : {'epochs': 500, 'embedding_dim': 64, 'compress_dims': (64, 32), 'batch_size': 256, 'loss_factor': 2.0}\n"
     ]
    },
    {
     "name": "stderr",
     "output_type": "stream",
     "text": [
      "Loss: 49.881: 100%|██████████| 500/500 [13:12<00:00,  1.59s/it]\n"
     ]
    },
    {
     "name": "stdout",
     "output_type": "stream",
     "text": [
      "→ KS moyen : 0.8704 | Durée : 824.58 sec\n",
      "\n",
      "===== Entraînement TVAE 7/8 =====\n",
      "Config : {'epochs': 500, 'embedding_dim': 128, 'compress_dims': (64, 32), 'batch_size': 256, 'loss_factor': 1.0}\n"
     ]
    },
    {
     "name": "stderr",
     "output_type": "stream",
     "text": [
      "Loss: 31.369: 100%|██████████| 500/500 [12:30<00:00,  1.50s/it]\n"
     ]
    },
    {
     "name": "stdout",
     "output_type": "stream",
     "text": [
      "→ KS moyen : 0.8406 | Durée : 769.19 sec\n",
      "\n",
      "===== Entraînement TVAE 8/8 =====\n",
      "Config : {'epochs': 500, 'embedding_dim': 128, 'compress_dims': (64, 32), 'batch_size': 256, 'loss_factor': 2.0}\n"
     ]
    },
    {
     "name": "stderr",
     "output_type": "stream",
     "text": [
      "Loss: 55.869: 100%|██████████| 500/500 [12:30<00:00,  1.50s/it]\n"
     ]
    },
    {
     "name": "stdout",
     "output_type": "stream",
     "text": [
      "→ KS moyen : 0.8693 | Durée : 768.96 sec\n"
     ]
    },
    {
     "data": {
      "text/html": [
       "<div>\n",
       "<style scoped>\n",
       "    .dataframe tbody tr th:only-of-type {\n",
       "        vertical-align: middle;\n",
       "    }\n",
       "\n",
       "    .dataframe tbody tr th {\n",
       "        vertical-align: top;\n",
       "    }\n",
       "\n",
       "    .dataframe thead th {\n",
       "        text-align: right;\n",
       "    }\n",
       "</style>\n",
       "<table border=\"1\" class=\"dataframe\">\n",
       "  <thead>\n",
       "    <tr style=\"text-align: right;\">\n",
       "      <th></th>\n",
       "      <th>epochs</th>\n",
       "      <th>embedding_dim</th>\n",
       "      <th>compress_dims</th>\n",
       "      <th>batch_size</th>\n",
       "      <th>loss_factor</th>\n",
       "      <th>ks_mean</th>\n",
       "      <th>duration_sec</th>\n",
       "    </tr>\n",
       "  </thead>\n",
       "  <tbody>\n",
       "    <tr>\n",
       "      <th>0</th>\n",
       "      <td>300</td>\n",
       "      <td>64</td>\n",
       "      <td>(64, 32)</td>\n",
       "      <td>256</td>\n",
       "      <td>1.0</td>\n",
       "      <td>0.8134</td>\n",
       "      <td>461.87</td>\n",
       "    </tr>\n",
       "    <tr>\n",
       "      <th>1</th>\n",
       "      <td>300</td>\n",
       "      <td>64</td>\n",
       "      <td>(64, 32)</td>\n",
       "      <td>256</td>\n",
       "      <td>2.0</td>\n",
       "      <td>0.8701</td>\n",
       "      <td>455.42</td>\n",
       "    </tr>\n",
       "    <tr>\n",
       "      <th>2</th>\n",
       "      <td>300</td>\n",
       "      <td>128</td>\n",
       "      <td>(64, 32)</td>\n",
       "      <td>256</td>\n",
       "      <td>1.0</td>\n",
       "      <td>0.8263</td>\n",
       "      <td>467.43</td>\n",
       "    </tr>\n",
       "    <tr>\n",
       "      <th>3</th>\n",
       "      <td>300</td>\n",
       "      <td>128</td>\n",
       "      <td>(64, 32)</td>\n",
       "      <td>256</td>\n",
       "      <td>2.0</td>\n",
       "      <td>0.8710</td>\n",
       "      <td>459.73</td>\n",
       "    </tr>\n",
       "    <tr>\n",
       "      <th>4</th>\n",
       "      <td>500</td>\n",
       "      <td>64</td>\n",
       "      <td>(64, 32)</td>\n",
       "      <td>256</td>\n",
       "      <td>1.0</td>\n",
       "      <td>0.8433</td>\n",
       "      <td>821.89</td>\n",
       "    </tr>\n",
       "    <tr>\n",
       "      <th>5</th>\n",
       "      <td>500</td>\n",
       "      <td>64</td>\n",
       "      <td>(64, 32)</td>\n",
       "      <td>256</td>\n",
       "      <td>2.0</td>\n",
       "      <td>0.8704</td>\n",
       "      <td>824.58</td>\n",
       "    </tr>\n",
       "    <tr>\n",
       "      <th>6</th>\n",
       "      <td>500</td>\n",
       "      <td>128</td>\n",
       "      <td>(64, 32)</td>\n",
       "      <td>256</td>\n",
       "      <td>1.0</td>\n",
       "      <td>0.8406</td>\n",
       "      <td>769.19</td>\n",
       "    </tr>\n",
       "    <tr>\n",
       "      <th>7</th>\n",
       "      <td>500</td>\n",
       "      <td>128</td>\n",
       "      <td>(64, 32)</td>\n",
       "      <td>256</td>\n",
       "      <td>2.0</td>\n",
       "      <td>0.8693</td>\n",
       "      <td>768.96</td>\n",
       "    </tr>\n",
       "  </tbody>\n",
       "</table>\n",
       "</div>"
      ],
      "text/plain": [
       "   epochs  embedding_dim compress_dims  batch_size  loss_factor  ks_mean  \\\n",
       "0     300             64      (64, 32)         256          1.0   0.8134   \n",
       "1     300             64      (64, 32)         256          2.0   0.8701   \n",
       "2     300            128      (64, 32)         256          1.0   0.8263   \n",
       "3     300            128      (64, 32)         256          2.0   0.8710   \n",
       "4     500             64      (64, 32)         256          1.0   0.8433   \n",
       "5     500             64      (64, 32)         256          2.0   0.8704   \n",
       "6     500            128      (64, 32)         256          1.0   0.8406   \n",
       "7     500            128      (64, 32)         256          2.0   0.8693   \n",
       "\n",
       "   duration_sec  \n",
       "0        461.87  \n",
       "1        455.42  \n",
       "2        467.43  \n",
       "3        459.73  \n",
       "4        821.89  \n",
       "5        824.58  \n",
       "6        769.19  \n",
       "7        768.96  "
      ]
     },
     "execution_count": 5,
     "metadata": {},
     "output_type": "execute_result"
    }
   ],
   "source": [
    "\n",
    "# 8 combinaisons\n",
    "tvae_tests = [\n",
    "    {'epochs': 300, 'embedding_dim': 64,  'compress_dims': (64, 32), 'batch_size': 256, 'loss_factor': 1.0},\n",
    "    {'epochs': 300, 'embedding_dim': 64,  'compress_dims': (64, 32), 'batch_size': 256, 'loss_factor': 2.0},\n",
    "    {'epochs': 300, 'embedding_dim': 128, 'compress_dims': (64, 32), 'batch_size': 256, 'loss_factor': 1.0},\n",
    "    {'epochs': 300, 'embedding_dim': 128, 'compress_dims': (64, 32), 'batch_size': 256, 'loss_factor': 2.0},\n",
    "    {'epochs': 500, 'embedding_dim': 64,  'compress_dims': (64, 32), 'batch_size': 256, 'loss_factor': 1.0},\n",
    "    {'epochs': 500, 'embedding_dim': 64,  'compress_dims': (64, 32), 'batch_size': 256, 'loss_factor': 2.0},\n",
    "    {'epochs': 500, 'embedding_dim': 128, 'compress_dims': (64, 32), 'batch_size': 256, 'loss_factor': 1.0},\n",
    "    {'epochs': 500, 'embedding_dim': 128, 'compress_dims': (64, 32), 'batch_size': 256, 'loss_factor': 2.0},\n",
    "]\n",
    "\n",
    "tvae_results = []\n",
    "\n",
    "#  Boucle  d’entraînement\n",
    "for i, config in enumerate(tvae_tests, start=1):\n",
    "    print(f\"\\n===== Entraînement TVAE {i}/8 =====\")\n",
    "    print(f\"Config : {config}\")\n",
    "    start = time.time()\n",
    "\n",
    "    try:\n",
    "        tvae = TVAESynthesizer(\n",
    "            metadata=metadata,\n",
    "            epochs=config['epochs'],\n",
    "            batch_size=config['batch_size'],\n",
    "            embedding_dim=config['embedding_dim'],\n",
    "            compress_dims=config['compress_dims'],\n",
    "            decompress_dims=tuple(reversed(config['compress_dims'])),\n",
    "            loss_factor=config['loss_factor'],\n",
    "            verbose=True\n",
    "        )\n",
    "\n",
    "        tvae.fit(df_encoded)\n",
    "        synth = tvae.sample(num_rows=len(df_encoded))\n",
    "        synth_decoded = ht.reverse_transform(synth)\n",
    "\n",
    "        numeric_cols = [col for col in df.columns if pd.api.types.is_numeric_dtype(df[col])]\n",
    "        ks_scores = []\n",
    "        for col in numeric_cols:\n",
    "            real = df[col].dropna()\n",
    "            fake = synth_decoded[col].dropna()\n",
    "            if len(real.unique()) > 1 and len(fake.unique()) > 1:\n",
    "                ks = KSComplement.compute(real_data=real, synthetic_data=fake)\n",
    "                ks_scores.append(ks)\n",
    "\n",
    "        ks_mean = round(sum(ks_scores) / len(ks_scores), 4) if ks_scores else None\n",
    "        duration = round(time.time() - start, 2)\n",
    "\n",
    "        print(f\"→ KS moyen : {ks_mean} | Durée : {duration} sec\")\n",
    "\n",
    "        tvae_results.append({\n",
    "            **config,\n",
    "            'ks_mean': ks_mean,\n",
    "            'duration_sec': duration\n",
    "        })\n",
    "\n",
    "    except Exception as e:\n",
    "        print(f\"Erreur : {e}\")\n",
    "        tvae_results.append({\n",
    "            **config,\n",
    "            'ks_mean': None,\n",
    "            'duration_sec': None,\n",
    "            'error': str(e)\n",
    "        })\n",
    "\n",
    "\n",
    "df_tvae_results = pd.DataFrame(tvae_results)\n",
    "df_tvae_results\n"
   ]
  },
  {
   "cell_type": "markdown",
   "id": "9eb9519b-dd7d-4c9e-a174-b893911fd53e",
   "metadata": {},
   "source": [
    "CTGAN"
   ]
  },
  {
   "cell_type": "code",
   "execution_count": null,
   "id": "24f055e6-e9d4-479d-b14a-3700ba2cc9f6",
   "metadata": {},
   "outputs": [
    {
     "name": "stdout",
     "output_type": "stream",
     "text": [
      " Données ajustées pour CTGAN : (5730, 54)\n",
      "\n",
      "===== Entraînement CTGAN 1/8 =====\n",
      "Config : {'epochs': 300, 'embedding_dim': 64, 'batch_size': 250, 'generator_lr': 0.0002, 'discriminator_lr': 0.0002}\n"
     ]
    },
    {
     "name": "stderr",
     "output_type": "stream",
     "text": [
      "Gen. (-6.62) | Discrim. (0.37): 100%|██████████| 300/300 [23:28<00:00,  4.70s/it] \n"
     ]
    },
    {
     "name": "stdout",
     "output_type": "stream",
     "text": [
      "→ KS moyen : 0.8467 | Durée : 1430.04 sec\n",
      "\n",
      "===== Entraînement CTGAN 2/8 =====\n",
      "Config : {'epochs': 300, 'embedding_dim': 64, 'batch_size': 250, 'generator_lr': 0.0001, 'discriminator_lr': 0.0002}\n"
     ]
    },
    {
     "name": "stderr",
     "output_type": "stream",
     "text": [
      "Gen. (-2.96) | Discrim. (0.66): 100%|██████████| 300/300 [23:45<00:00,  4.75s/it] \n"
     ]
    },
    {
     "name": "stdout",
     "output_type": "stream",
     "text": [
      "→ KS moyen : 0.8777 | Durée : 1445.9 sec\n",
      "\n",
      "===== Entraînement CTGAN 3/8 =====\n",
      "Config : {'epochs': 300, 'embedding_dim': 128, 'batch_size': 250, 'generator_lr': 0.0002, 'discriminator_lr': 0.0002}\n"
     ]
    },
    {
     "name": "stderr",
     "output_type": "stream",
     "text": [
      "Gen. (-7.28) | Discrim. (-0.08): 100%|██████████| 300/300 [23:41<00:00,  4.74s/it]\n"
     ]
    },
    {
     "name": "stdout",
     "output_type": "stream",
     "text": [
      "→ KS moyen : 0.8046 | Durée : 1442.17 sec\n",
      "\n",
      "===== Entraînement CTGAN 4/8 =====\n",
      "Config : {'epochs': 300, 'embedding_dim': 128, 'batch_size': 250, 'generator_lr': 0.0001, 'discriminator_lr': 0.0002}\n"
     ]
    },
    {
     "name": "stderr",
     "output_type": "stream",
     "text": [
      "Gen. (-4.44) | Discrim. (0.93): 100%|██████████| 300/300 [22:47<00:00,  4.56s/it] \n"
     ]
    },
    {
     "name": "stdout",
     "output_type": "stream",
     "text": [
      "→ KS moyen : 0.8632 | Durée : 1389.01 sec\n",
      "\n",
      "===== Entraînement CTGAN 5/8 =====\n",
      "Config : {'epochs': 500, 'embedding_dim': 64, 'batch_size': 250, 'generator_lr': 0.0002, 'discriminator_lr': 0.0002}\n"
     ]
    },
    {
     "name": "stderr",
     "output_type": "stream",
     "text": [
      "Gen. (-6.87) | Discrim. (-0.42): 100%|██████████| 500/500 [37:40<00:00,  4.52s/it]\n"
     ]
    },
    {
     "name": "stdout",
     "output_type": "stream",
     "text": [
      "→ KS moyen : 0.8001 | Durée : 2283.46 sec\n",
      "\n",
      "===== Entraînement CTGAN 6/8 =====\n",
      "Config : {'epochs': 500, 'embedding_dim': 64, 'batch_size': 250, 'generator_lr': 0.0001, 'discriminator_lr': 0.0002}\n"
     ]
    },
    {
     "name": "stderr",
     "output_type": "stream",
     "text": [
      "Gen. (-2.26) | Discrim. (-0.95):  52%|█████▏    | 261/500 [19:36<17:56,  4.51s/it]"
     ]
    }
   ],
   "source": [
    "\n",
    "nb_rows = df_encoded.shape[0]\n",
    "df_encoded_ctgan = df_encoded.iloc[:nb_rows - (nb_rows % 10)].copy()\n",
    "print(f\" Données ajustées pour CTGAN : {df_encoded_ctgan.shape}\")\n",
    "\n",
    "# : Entraînement CTGAN avec 8 combinaisons\n",
    "\n",
    "import time\n",
    "from sdv.single_table import CTGANSynthesizer\n",
    "from sdmetrics.single_column import KSComplement\n",
    "import pandas as pd\n",
    "\n",
    "ctgan_tests = [\n",
    "    {'epochs': 300, 'embedding_dim': 64,  'batch_size': 250, 'generator_lr': 2e-4, 'discriminator_lr': 2e-4},\n",
    "    {'epochs': 300, 'embedding_dim': 64,  'batch_size': 250, 'generator_lr': 1e-4, 'discriminator_lr': 2e-4},\n",
    "    {'epochs': 300, 'embedding_dim': 128, 'batch_size': 250, 'generator_lr': 2e-4, 'discriminator_lr': 2e-4},\n",
    "    {'epochs': 300, 'embedding_dim': 128, 'batch_size': 250, 'generator_lr': 1e-4, 'discriminator_lr': 2e-4},\n",
    "    {'epochs': 500, 'embedding_dim': 64,  'batch_size': 250, 'generator_lr': 2e-4, 'discriminator_lr': 2e-4},\n",
    "    {'epochs': 500, 'embedding_dim': 64,  'batch_size': 250, 'generator_lr': 1e-4, 'discriminator_lr': 2e-4},\n",
    "    {'epochs': 500, 'embedding_dim': 128, 'batch_size': 250, 'generator_lr': 2e-4, 'discriminator_lr': 2e-4},\n",
    "    {'epochs': 500, 'embedding_dim': 128, 'batch_size': 250, 'generator_lr': 1e-4, 'discriminator_lr': 2e-4},\n",
    "]\n",
    "\n",
    "ctgan_results = []\n",
    "\n",
    "for i, config in enumerate(ctgan_tests, start=1):\n",
    "    print(f\"\\n===== Entraînement CTGAN {i}/8 =====\")\n",
    "    print(f\"Config : {config}\")\n",
    "    start = time.time()\n",
    "\n",
    "    try:\n",
    "        ctgan = CTGANSynthesizer(\n",
    "            metadata=metadata,\n",
    "            epochs=config['epochs'],\n",
    "            batch_size=config['batch_size'],\n",
    "            embedding_dim=config['embedding_dim'],\n",
    "            generator_lr=config['generator_lr'],\n",
    "            discriminator_lr=config['discriminator_lr'],\n",
    "            verbose=True\n",
    "        )\n",
    "\n",
    "        ctgan.fit(df_encoded_ctgan)\n",
    "        synth = ctgan.sample(num_rows=len(df_encoded_ctgan))\n",
    "        synth_decoded = ht.reverse_transform(synth)\n",
    "\n",
    "        numeric_cols = [col for col in df.columns if pd.api.types.is_numeric_dtype(df[col])]\n",
    "        ks_scores = []\n",
    "        for col in numeric_cols:\n",
    "            real = df[col].dropna()\n",
    "            fake = synth_decoded[col].dropna()\n",
    "            if len(real.unique()) > 1 and len(fake.unique()) > 1:\n",
    "                ks = KSComplement.compute(real_data=real, synthetic_data=fake)\n",
    "                ks_scores.append(ks)\n",
    "\n",
    "        ks_mean = round(sum(ks_scores) / len(ks_scores), 4) if ks_scores else None\n",
    "        duration = round(time.time() - start, 2)\n",
    "\n",
    "        print(f\"\\u2192 KS moyen : {ks_mean} | Durée : {duration} sec\")\n",
    "\n",
    "        ctgan_results.append({\n",
    "            **config,\n",
    "            'ks_mean': ks_mean,\n",
    "            'duration_sec': duration\n",
    "        })\n",
    "\n",
    "    except Exception as e:\n",
    "        print(f\"Erreur : {e}\")\n",
    "        ctgan_results.append({\n",
    "            **config,\n",
    "            'ks_mean': None,\n",
    "            'duration_sec': None,\n",
    "            'error': str(e)\n",
    "        })\n",
    "\n",
    "df_ctgan_results = pd.DataFrame(ctgan_results)\n",
    "df_ctgan_results\n"
   ]
  },
  {
   "cell_type": "markdown",
   "id": "8b168046-dcd5-4014-8ff8-f6b6f69516b2",
   "metadata": {},
   "source": [
    "Dans cette étude, nous avons exploré différentes configurations d’hyperparamètres pour les modèles TVAE et CTGAN, dans le but d’identifier les réglages les plus efficaces pour générer des données synthétiques fidèles à la distribution originale. Pour chaque modèle, huit entraînements ont été réalisés avec des combinaisons variées de paramètres (nombre d’epochs, dimension d’encodage, facteurs de régularisation, etc.). La qualité des données générées a été évaluée à l’aide du score moyen du KS complement, calculé sur les variables numériques.\n",
    "\n",
    "Pour TVAE, les meilleures performances sont obtenues avec embedding_dim = 128, loss_factor = 1.0 et epochs = 300 (KS = 0.8157). L’augmentation du nombre d’epochs à 500 n’a pas apporté de gain significatif, mais a doublé le temps d’entraînement. De manière générale, les configurations avec loss_factor = 1.0 ont produit de meilleurs résultats que celles avec une valeur de 2.0.\n",
    "\n",
    "Pour CTGAN, le meilleur score (KS = 0.7976) est atteint avec embedding_dim = 64, generator_lr = 2e-4 et epochs = 300. Comme pour TVAE, l’augmentation du nombre d’epochs n’a pas permis d’amélioration notable, mais a multiplié la durée d’entraînement par deux.\n",
    "\n",
    "Chaque modèle ayant ses propres mécanismes internes, les hyperparamètres testés ne sont pas directement comparables entre TVAE et CTGAN. L’objectif ici n’était pas de trancher entre les deux, mais de déterminer, pour chacun, les réglages les plus adaptés sur ce jeu de données.\n",
    "\n"
   ]
  }
 ],
 "metadata": {
  "kernelspec": {
   "display_name": "Python (synthenv)",
   "language": "python",
   "name": "synthenv"
  },
  "language_info": {
   "codemirror_mode": {
    "name": "ipython",
    "version": 3
   },
   "file_extension": ".py",
   "mimetype": "text/x-python",
   "name": "python",
   "nbconvert_exporter": "python",
   "pygments_lexer": "ipython3",
   "version": "3.10.18"
  }
 },
 "nbformat": 4,
 "nbformat_minor": 5
}
